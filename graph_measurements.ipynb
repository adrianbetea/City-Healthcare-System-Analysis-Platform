{
 "cells": [
  {
   "cell_type": "markdown",
   "metadata": {},
   "source": [
    "## Read Data From CSV"
   ]
  },
  {
   "cell_type": "code",
   "execution_count": 1,
   "metadata": {},
   "outputs": [],
   "source": [
    "import csv\n",
    "from unidecode import unidecode\n",
    "latitude = []\n",
    "longitude = []\n",
    "city_name = []\n",
    "county_name = []\n",
    "with open('Datasets/ro.csv', newline='') as csvfile:\n",
    "    DictReader = csv.DictReader(csvfile)\n",
    "    ### Get latitude and longitude from csv\n",
    "    for row in DictReader:\n",
    "        city = unidecode(row['city'])\n",
    "        city = city.replace(\"AY\", 's')\n",
    "        city = city.replace(\"APS\", 't')\n",
    "        city = city.replace(\"Af\", 'a')\n",
    "        city = city.replace(\"AC/\", 'a')\n",
    "        city_name = city_name + [city]\n",
    "        county = unidecode(row['admin_name'])\n",
    "        county = county.replace(\"AY\", 's')\n",
    "        county = county.replace(\"APS\", 't')\n",
    "        county = county.replace(\"Af\", 'a')\n",
    "        county = county.replace(\"AC/\", 'a')\n",
    "        county_name = county_name + [county]\n",
    "        latitude = latitude + [row['lat']]\n",
    "        longitude = longitude + [row['lng']]"
   ]
  },
  {
   "cell_type": "markdown",
   "metadata": {},
   "source": [
    "## Generate the graphs"
   ]
  },
  {
   "cell_type": "code",
   "execution_count": 2,
   "metadata": {},
   "outputs": [
    {
     "name": "stdout",
     "output_type": "stream",
     "text": [
      "Error processing Roman: No data elements in server response. Check log and query location/tags.\n",
      "Error processing Voluntari: Found no graph nodes within the requested polygon\n",
      "Error processing Medgidia: No data elements in server response. Check log and query location/tags.\n"
     ]
    }
   ],
   "source": [
    "import networkx as nx\n",
    "import geopandas as gpd\n",
    "import osmnx as ox\n",
    "\n",
    "G = []\n",
    "hospitals = []\n",
    "saved_city = []\n",
    "for i in range(1, len(city_name)):\n",
    "    try:\n",
    "        location = city_name[i] + \", \" + county_name[i]\n",
    "        \n",
    "        x = ox.graph_from_place(location, network_type=\"drive\")\n",
    "        if x:\n",
    "            saved_city.append(location)\n",
    "            G.append(x)\n",
    "            hospitals.append(ox.features.features_from_place(location, tags={\"amenity\": \"hospital\", \"amenity\":\"clinic\", \"healthcare\":\"hospital\", \"emergency\":\"yes\"}))\n",
    "\n",
    "    except Exception as e:\n",
    "        print(f\"Error processing {city_name[i]}: {e}\")"
   ]
  },
  {
   "cell_type": "markdown",
   "metadata": {},
   "source": [
    "# GRAPH MEASUREMENTS"
   ]
  },
  {
   "cell_type": "markdown",
   "metadata": {
    "tags": []
   },
   "source": [
    "## Degree\n",
    "\n",
    "Degree -- Definition\n",
    "Number of links connected to the node ki\n",
    ".\n",
    "\n",
    "Average node degree -- Definition\n",
    "Sum of the degrees and divided by the number of nodes."
   ]
  },
  {
   "cell_type": "code",
   "execution_count": 3,
   "metadata": {},
   "outputs": [],
   "source": [
    "def average_degree(G: nx.Graph) -> float:\n",
    "    return sum(G.degree(n) for n in G.nodes) / len(G.nodes)"
   ]
  },
  {
   "cell_type": "code",
   "execution_count": 4,
   "metadata": {},
   "outputs": [
    {
     "name": "stdout",
     "output_type": "stream",
     "text": [
      "Average degree for Cluj-Napoca, Cluj 4.511713933415536\n",
      "Average degree for Iasi, Iasi 4.750678557580458\n",
      "Average degree for Constanta, Constanta 4.7278708133971294\n",
      "Average degree for Timisoara, Timis 4.646375902102291\n",
      "Average degree for Brasov, Brasov 4.500451671183378\n",
      "Average degree for Craiova, Dolj 4.653881278538813\n",
      "Average degree for Galati, Galati 4.982316029663434\n",
      "Average degree for Oradea, Bihor 4.634392334846193\n",
      "Average degree for Ploiesti, Prahova 4.850704225352112\n",
      "Average degree for Braila, Braila 5.711436950146628\n",
      "Average degree for Arad, Arad 5.012997903563941\n",
      "Average degree for Pitesti, Arges 4.610193826274228\n",
      "Average degree for Bacau, Bacau 4.780707395498392\n",
      "Average degree for Sibiu, Sibiu 4.659420289855072\n",
      "Average degree for Targu-Mures, Mures 4.350640593391773\n",
      "Average degree for Baia Mare, Maramures 4.293546544831525\n",
      "Average degree for Buzau, Buzau 4.774381368267831\n",
      "Average degree for Ramnicu Valcea, Valcea 4.3890577507598785\n",
      "Average degree for Satu Mare, Satu Mare 4.599877825290165\n",
      "Average degree for Botosani, Botosani 4.705248990578735\n",
      "Average degree for Suceava, Suceava 4.473065015479876\n",
      "Average degree for Resita, Caras-Severin 4.713097713097713\n",
      "Average degree for Drobeta-Turnu Severin, Mehedinti 5.021505376344086\n",
      "Average degree for Piatra Neamt, Neamt 4.414239482200648\n",
      "Average degree for Bistrita, Bistrita-Nasaud 4.349946977730647\n",
      "Average degree for Targu Jiu, Gorj 4.602136181575434\n",
      "Average degree for Targoviste, Dambovita 4.483304042179262\n",
      "Average degree for Focsani, Vrancea 4.879074658254469\n",
      "Average degree for Tulcea, Tulcea 4.906280193236715\n",
      "Average degree for Alba Iulia, Alba 4.680161943319838\n",
      "Average degree for Slatina, Olt 4.624553039332539\n",
      "Average degree for Vaslui, Vaslui 4.76890756302521\n",
      "Average degree for Calarasi, Calarasi 5.386308068459658\n",
      "Average degree for Giurgiu, Giurgiu 5.00968992248062\n",
      "Average degree for Popesti-Leordeni, Ilfov 4.780487804878049\n",
      "Average degree for Deva, Hunedoara 4.516129032258065\n",
      "Average degree for Barlad, Vaslui 5.373410404624278\n",
      "Average degree for Zalau, Salaj 4.6239316239316235\n",
      "Average degree for Hunedoara, Hunedoara 4.835616438356165\n",
      "Average degree for Floresti, Cluj 4.34\n",
      "Average degree for Sfantu-Gheorghe, Covasna 4.702222222222222\n",
      "Average degree for Roman, Neamt 5.260029717682021\n",
      "Average degree for Turda, Cluj 4.806060606060606\n",
      "Average degree for Miercurea-Ciuc, Harghita 4.233545647558387\n",
      "Average degree for Slobozia, Ialomita 5.257462686567164\n",
      "Average degree for Alexandria, Teleorman 5.351515151515152\n",
      "Average degree for Bragadiru, Ilfov 4.628875110717449\n",
      "Average degree for Medias, Sibiu 4.812345679012346\n",
      "Average degree for Lugoj, Timis 4.763224181360202\n",
      "Average degree for Medgidia, Constanta 5.4176829268292686\n",
      "Average degree for Navodari, Constanta 4.662857142857143\n",
      "Average degree for Onesti, Bacau 4.4635761589403975\n",
      "Average degree for Pantelimon, Ilfov 4.777142857142858\n",
      "Average degree for Tecuci, Galati 5.352777777777778\n",
      "Average degree for Sighetu Marmatiei, Maramures 4.5797950219619326\n",
      "Average degree for Mangalia, Constanta 5.2215799614643545\n",
      "Average degree for Dej, Cluj 4.9153046062407135\n",
      "Average degree for Odorheiu Secuiesc, Harghita 4.429718875502008\n",
      "Average degree for Petrosani, Hunedoara 4.470588235294118\n",
      "Average degree for Sacele, Brasov 5.020961775585697\n",
      "Average degree for Pascani, Iasi 4.954887218045113\n",
      "Average degree for Ramnicu Sarat, Buzau 5.421221864951768\n",
      "Average degree for Reghin, Mures 4.5852941176470585\n",
      "Average degree for Mioveni, Arges 4.640522875816994\n",
      "Average degree for Campina, Prahova 4.589446589446589\n",
      "Average degree for Borsa, Maramures 4.256338028169014\n",
      "Average degree for Campulung, Arges 4.927973199329983\n",
      "Average degree for Fetesti, Ialomita 5.837037037037037\n",
      "Average degree for Caracal, Olt 5.024096385542169\n",
      "Average degree for Sebes, Alba 4.816074188562596\n",
      "Average degree for Fagaras, Brasov 4.5358649789029535\n"
     ]
    }
   ],
   "source": [
    "for i in range(0, len(G)):\n",
    "    print(f\"Average degree for {saved_city[i]} {average_degree(G[i])}\")"
   ]
  },
  {
   "cell_type": "markdown",
   "metadata": {},
   "source": [
    "## Degree Hospital Nodes"
   ]
  },
  {
   "cell_type": "code",
   "execution_count": 5,
   "metadata": {},
   "outputs": [
    {
     "name": "stderr",
     "output_type": "stream",
     "text": [
      "<>:2: DeprecationWarning: invalid escape sequence '\\D'\n",
      "<>:2: DeprecationWarning: invalid escape sequence '\\D'\n",
      "C:\\Users\\Adrian\\AppData\\Local\\Temp\\ipykernel_10508\\1539449993.py:2: DeprecationWarning: invalid escape sequence '\\D'\n",
      "  with open(\".\\Datasets\\GraphMeasurements\\hospital_degrees.txt\", \"w\") as file:\n"
     ]
    }
   ],
   "source": [
    "# Open the file in write mode\n",
    "with open(\".\\Datasets\\GraphMeasurements\\hospital_degrees.txt\", \"w\") as file:\n",
    "    for i in range(0, len(G)):\n",
    "        try:\n",
    "            # Extract hospital nodes\n",
    "            hospital_nodes = []\n",
    "            for _, hospital in hospitals[i].iterrows():\n",
    "                point = hospital.geometry.centroid\n",
    "                nearest_node = ox.distance.nearest_nodes(G[i], point.x, point.y)\n",
    "                hospital_nodes.append(nearest_node)\n",
    "            hospital_nodes = list(set(hospital_nodes))\n",
    "\n",
    "            # Ensure there are hospital nodes\n",
    "            if not hospital_nodes:\n",
    "                file.write(f\"No hospital nodes found for {saved_city[i]}\\n\")\n",
    "            else:\n",
    "                # Calculate the degree for each hospital node\n",
    "                hospital_degrees = [G[i].degree(node) for node in hospital_nodes]\n",
    "                avg_degree = sum(hospital_degrees) / len(hospital_degrees) if hospital_degrees else 0\n",
    "\n",
    "                # Write the average degree to the text file\n",
    "                file.write(f\"Average degree of hospital nodes for {saved_city[i]}: {avg_degree:.4f}\\n\")\n",
    "\n",
    "        except Exception as e:\n",
    "            file.write(f\"Error processing {saved_city[i]}: {e}\\n\")"
   ]
  },
  {
   "cell_type": "markdown",
   "metadata": {},
   "source": [
    "## Hospital Clustering Coefficients\n",
    "## What fraction of hospital neighbors are connected"
   ]
  },
  {
   "cell_type": "code",
   "execution_count": 6,
   "metadata": {},
   "outputs": [],
   "source": [
    "def clustering_coef(G: nx.Graph, u: int):\n",
    "    \"\"\"\n",
    "    Return the clustering coefficient of node `u` from graph `G`\n",
    "\n",
    "    Parameters:\n",
    "    -----------\n",
    "    G: nx.Graph\n",
    "        Input graph\n",
    "    u: int\n",
    "        Node to calculate the clustering coefficient of.\n",
    "\n",
    "    Returns:\n",
    "    --------\n",
    "    clustering coeff: int\n",
    "\n",
    "    \"\"\"\n",
    "    ei = 0\n",
    "    for i in G.neighbors(u):  # For each neighbour `i` of `u`\n",
    "        for j in G.neighbors(u):  # For each neighbour `j` of `u`\n",
    "            if i != j:  # no self loops\n",
    "                ei += G.has_edge(i, j)  # Check if it has edge and add it to the total edges\n",
    "    return ei / (G.degree(u) * (G.degree(u) - 1))  # divide by 2 because we count the edges twice"
   ]
  },
  {
   "cell_type": "code",
   "execution_count": 7,
   "metadata": {},
   "outputs": [
    {
     "name": "stderr",
     "output_type": "stream",
     "text": [
      "<>:1: DeprecationWarning: invalid escape sequence '\\D'\n",
      "<>:1: DeprecationWarning: invalid escape sequence '\\D'\n",
      "C:\\Users\\Adrian\\AppData\\Local\\Temp\\ipykernel_10508\\3932586345.py:1: DeprecationWarning: invalid escape sequence '\\D'\n",
      "  with open(\".\\Datasets\\GraphMeasurements\\hospital_clustering_coefficients.txt\", \"w\") as file:\n"
     ]
    }
   ],
   "source": [
    "with open(\".\\Datasets\\GraphMeasurements\\hospital_clustering_coefficients.txt\", \"w\") as file:   \n",
    "    for i in range(0, len(G)):\n",
    "        try:\n",
    "            hospital_nodes = []\n",
    "            for _, hospital in hospitals[i].iterrows():\n",
    "                point = hospital.geometry.centroid\n",
    "                nearest_node = ox.distance.nearest_nodes(G[i], point.x, point.y)\n",
    "                hospital_nodes.append(nearest_node)\n",
    "            hospital_nodes = list(set(hospital_nodes))\n",
    "\n",
    "            # Ensure there are hospital nodes\n",
    "            if not hospital_nodes:\n",
    "                file.write(f\"No hospital nodes found for {saved_city[i]}\\n\")\n",
    "            else:\n",
    "                # Calculate the clustering coefficients for the hospital nodes\n",
    "                hospital_clustering_coeffs = {node: clustering_coef(G[i], node) for node in hospital_nodes if G[i].degree(node) > 1}\n",
    "                file.write(f\"Clustering coefficients for {saved_city[i]}\\n\")\n",
    "                # Print the clustering coefficients for the hospital nodes\n",
    "                for hospital_node, clustering_coeff in hospital_clustering_coeffs.items():\n",
    "                    file.write(f\"Hospital node {hospital_node} has clustering coefficient {clustering_coeff:.4f}\\n\")\n",
    "                file.write(\"\\n\")  # Add a newline for separation between cities\n",
    "\n",
    "        except Exception as e:\n",
    "            file.write(f\"Error processing {saved_city[i]}: {e}\\n\")"
   ]
  }
 ],
 "metadata": {
  "kernelspec": {
   "display_name": "base",
   "language": "python",
   "name": "python3"
  },
  "language_info": {
   "codemirror_mode": {
    "name": "ipython",
    "version": 3
   },
   "file_extension": ".py",
   "mimetype": "text/x-python",
   "name": "python",
   "nbconvert_exporter": "python",
   "pygments_lexer": "ipython3",
   "version": "3.11.5"
  },
  "orig_nbformat": 4
 },
 "nbformat": 4,
 "nbformat_minor": 2
}
