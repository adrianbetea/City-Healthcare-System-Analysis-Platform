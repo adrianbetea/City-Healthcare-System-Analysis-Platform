{
 "cells": [
  {
   "cell_type": "code",
   "execution_count": 6,
   "metadata": {},
   "outputs": [
    {
     "name": "stderr",
     "output_type": "stream",
     "text": [
      "C:\\Users\\Adrian\\AppData\\Local\\Temp\\ipykernel_16632\\2063198019.py:25: FutureWarning: The `folium` module has been deprecated and will be removed in the v2.0.0 release. You can generate and explore interactive web maps of graph nodes, edges, and/or routes automatically using GeoPandas.GeoDataFrame.explore instead, for example like: `ox.graph_to_gdfs(G, nodes=False).explore()`. See the OSMnx examples gallery for complete details and demonstrations.\n",
      "  ox.plot_graph_folium(G, graph_map=m, edge_color=\"blue\", edge_width=0.3, bgcolor=\"#333333\")\n"
     ]
    },
    {
     "name": "stdout",
     "output_type": "stream",
     "text": [
      "Map with hospitals and clinics saved as city_map_with_hospitals_and_clinics.html\n"
     ]
    }
   ],
   "source": [
    "import folium\n",
    "import osmnx as ox\n",
    "import pandas as pd\n",
    "import geopandas as gpd\n",
    "import requests\n",
    "from folium.plugins import MarkerCluster\n",
    "\n",
    "ox.__version__\n",
    "\n",
    "# Function to retrieve and plot hospitals and clinics with Folium\n",
    "def plot_hospitals_and_clinics(place):\n",
    "    # Download/model a street network for the specified place\n",
    "    G = ox.graph_from_place(place, network_type=\"drive\", retain_all=True)\n",
    "    \n",
    "    # Get center coordinates for the map\n",
    "    center_lat, center_lon = ox.geocode(place)\n",
    "    \n",
    "    # Create a Folium map centered around the place\n",
    "    m = folium.Map(location=[center_lat, center_lon], zoom_start=12)\n",
    "\n",
    "    # Create a MarkerCluster object\n",
    "    marker_cluster = MarkerCluster().add_to(m)\n",
    "\n",
    "    # Plot street network on Folium map\n",
    "    ox.plot_graph_folium(G, graph_map=m, edge_color=\"blue\", edge_width=0.3, bgcolor=\"#333333\")\n",
    "    \n",
    "    # Retrieve hospital and clinic data for the place\n",
    "    tags = {\"amenity\": [\"hospital\", \"clinic\"]}\n",
    "    gdf = ox.features_from_place(place, tags)\n",
    "    \n",
    "    # Base URL for the geocoding API\n",
    "    BASE_URL = 'https://nominatim.openstreetmap.org/search?format=json'\n",
    "\n",
    "    # Iterate through each hospital or clinic and add markers to the map\n",
    "    for idx, row in gdf.iterrows():\n",
    "        # Construct the query parameters for the API request\n",
    "        params = {\n",
    "            \"q\": row[\"name\"],\n",
    "            \"format\": \"json\",\n",
    "            \"limit\": 1\n",
    "        }\n",
    "        \n",
    "        # Send a GET request to the geocoding API\n",
    "        response = requests.get(BASE_URL, params=params)\n",
    "        \n",
    "        # Check if the request was successful (status code 200)\n",
    "        if response.status_code == 200:\n",
    "            # Parse the JSON response\n",
    "            data = response.json()\n",
    "            \n",
    "            # Check if any results were returned\n",
    "            if data:\n",
    "                # Extract latitude and longitude from the first result\n",
    "                latitude = float(data[0][\"lat\"])\n",
    "                longitude = float(data[0][\"lon\"])\n",
    "                \n",
    "                # Add marker to the marker cluster\n",
    "                folium.Marker([latitude, longitude]).add_to(marker_cluster)\n",
    "    \n",
    "    # Display the Folium map\n",
    "    m.save('city_map_with_hospitals_and_clinics.html')\n",
    "    print(\"Map with hospitals and clinics saved as city_map_with_hospitals_and_clinics.html\")\n",
    "\n",
    "# Read the CSV file which contains the big cities\n",
    "df = pd.read_csv('ro.csv')\n",
    "\n",
    "# Message for the user\n",
    "city_name = input(\"Enter the name of the city: \")\n",
    "\n",
    "# Searching for the city in the data frame\n",
    "city_row = df[df['city'] == city_name]\n",
    "\n",
    "if not city_row.empty:\n",
    "    # Plot hospitals and clinics for the specified city using Folium\n",
    "    plot_hospitals_and_clinics(city_name)\n",
    "else:\n",
    "    print(\"City not found in the dataset.\")\n"
   ]
  }
 ],
 "metadata": {
  "kernelspec": {
   "display_name": "base",
   "language": "python",
   "name": "python3"
  },
  "language_info": {
   "codemirror_mode": {
    "name": "ipython",
    "version": 3
   },
   "file_extension": ".py",
   "mimetype": "text/x-python",
   "name": "python",
   "nbconvert_exporter": "python",
   "pygments_lexer": "ipython3",
   "version": "3.11.5"
  },
  "orig_nbformat": 4
 },
 "nbformat": 4,
 "nbformat_minor": 2
}
